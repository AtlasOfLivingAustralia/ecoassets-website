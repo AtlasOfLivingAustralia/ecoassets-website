{
  "cells": [
    {
      "cell_type": "raw",
      "metadata": {},
      "source": [
        "---\n",
        "title: \"Welcome to EcoAssets\"\n",
        "toc: false\n",
        "---"
      ],
      "id": "28891601"
    },
    {
      "cell_type": "markdown",
      "metadata": {},
      "source": [
        "![Golden Stag Beetle](images/beetle.jpg)\n",
        "\n",
        "```{html}\n",
        "<h1> Welcome </h1> <br>\n",
        "<p> some information </p>\n",
        "```\n",
        "\n",
        "\n",
        "## Welcome to EcoAssets <!-- {.hidden} -->\n",
        "\n",
        "EcoAssets brings together environmental data collected from three national research infrastructures – the ALA, IMOS and TERN. By standardising the formats of these data resources and then sharing them, the information can be streamlined into integrated data assets to support Australia's environmental reporting needs.\n",
        "\n",
        "[Learn more >](about.qmd)\n",
        "\n",
        "## Explore Data\n",
        "\n",
        "Explore the latest aggregated datasets for biodiversity and monitoring data from the ALA, IMOS and TERN.\n",
        "\n",
        "[See data >](data.qmd)\n",
        "\n",
        "## News\n",
        "\n",
        "View latest updates >\n",
        "\n",
        "::: {#testblock style=\"color:blue\"}\n",
        "this is a test block\n",
        ":::"
      ],
      "id": "33a673f2"
    }
  ],
  "metadata": {
    "kernelspec": {
      "display_name": "Python 3",
      "language": "python",
      "name": "python3"
    }
  },
  "nbformat": 4,
  "nbformat_minor": 5
}